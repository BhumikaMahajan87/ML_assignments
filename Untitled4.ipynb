{
  "nbformat": 4,
  "nbformat_minor": 0,
  "metadata": {
    "colab": {
      "provenance": [],
      "authorship_tag": "ABX9TyOe5UCdt8lntZitj1+rVzx5",
      "include_colab_link": true
    },
    "kernelspec": {
      "name": "python3",
      "display_name": "Python 3"
    },
    "language_info": {
      "name": "python"
    }
  },
  "cells": [
    {
      "cell_type": "markdown",
      "metadata": {
        "id": "view-in-github",
        "colab_type": "text"
      },
      "source": [
        "<a href=\"https://colab.research.google.com/github/BhumikaMahajan87/ML_assignments/blob/main/Untitled4.ipynb\" target=\"_parent\"><img src=\"https://colab.research.google.com/assets/colab-badge.svg\" alt=\"Open In Colab\"/></a>"
      ]
    },
    {
      "cell_type": "code",
      "execution_count": 1,
      "metadata": {
        "id": "uVYd3U0H3rlt"
      },
      "outputs": [],
      "source": [
        "import numpy as np\n",
        "from sklearn.preprocessing import StandardScaler, OneHotEncoder"
      ]
    },
    {
      "cell_type": "code",
      "source": [
        "# Step 1: Transform the data\n",
        "\n",
        "# Example objects\n",
        "object1 = {'Height': 170, 'Weight': 70, 'Color': 'Red', 'Gender': 0}  # Male = 0\n",
        "object2 = {'Height': 180, 'Weight': 80, 'Color': 'Blue', 'Gender': 1}  # Female = 1\n",
        "# Numeric attributes (for standardization)\n",
        "numeric_data = np.array([[object1['Height'], object1['Weight']], [object2['Height'], object2['Weight']]])\n",
        "# Standardize numeric attributes\n",
        "scaler = StandardScaler()\n",
        "numeric_data_standardized = scaler.fit_transform(numeric_data)\n",
        "# Nominal attributes (for one-hot encoding)\n",
        "nominal_data = np.array([[object1['Color']], [object2['Color']]])\n",
        "encoder = OneHotEncoder(sparse_output=False)\n",
        "nominal_data_encoded = encoder.fit_transform(nominal_data)\n",
        "# Binary attribute (Gender)\n",
        "binary_data = np.array([[object1['Gender']], [object2['Gender']]])\n",
        "# Combine all transformed data into one array for each object\n",
        "object1_transformed = np.concatenate((numeric_data_standardized[0], nominal_data_encoded[0], binary_data[0]))\n",
        "object2_transformed = np.concatenate((numeric_data_standardized[1], nominal_data_encoded[1], binary_data[1]))\n",
        "\n",
        "# Function for Simple Matching Similarity\n",
        "def simple_matching_similarity(obj1, obj2):\n",
        "    matches = np.sum(obj1 == obj2)\n",
        "    return matches / len(obj1)\n",
        "\n",
        "# Function for Jaccard Similarity (only for binary attributes)\n",
        "def jaccard_similarity(obj1, obj2):\n",
        "    intersection = np.sum(np.logical_and(obj1, obj2))\n",
        "    union = np.sum(np.logical_or(obj1, obj2))\n",
        "    return intersection / union\n",
        "    # Function for Cosine Similarity\n",
        "def cosine_similarity(obj1, obj2):\n",
        "    dot_product = np.dot(obj1, obj2)\n",
        "    magnitude1 = np.linalg.norm(obj1)\n",
        "    magnitude2 = np.linalg.norm(obj2)\n",
        "    return dot_product / (magnitude1 * magnitude2)\n",
        "    #Perform calculations\n",
        "simple_matching = simple_matching_similarity(object1_transformed, object2_transformed)\n",
        "jaccard = jaccard_similarity(object1_transformed.astype(bool), object2_transformed.astype(bool))\n",
        "cosine = cosine_similarity(object1_transformed, object2_transformed)\n",
        "# Output results\n",
        "print(f\"Simple Matching Similarity: {simple_matching}\")\n",
        "print(f\"Jaccard Similarity: {jaccard}\")\n",
        "print(f\"Cosine Similarity: {cosine}\")\n",
        "\n"
      ],
      "metadata": {
        "colab": {
          "base_uri": "https://localhost:8080/"
        },
        "id": "zDpQEQkA-hx7",
        "outputId": "5edf35c3-e65f-4365-f265-a2ef4ba224bc"
      },
      "execution_count": 2,
      "outputs": [
        {
          "output_type": "stream",
          "name": "stdout",
          "text": [
            "Simple Matching Similarity: 0.0\n",
            "Jaccard Similarity: 0.4\n",
            "Cosine Similarity: -0.5773502691896258\n"
          ]
        }
      ]
    },
    {
      "cell_type": "code",
      "source": [
        "import numpy as np"
      ],
      "metadata": {
        "id": "R5MbHmoVEDvs"
      },
      "execution_count": 3,
      "outputs": []
    },
    {
      "cell_type": "code",
      "source": [
        "\n",
        "\n",
        "# Example data\n",
        "commute_distance = np.array([5, 10, 15, 20, 25])  # Example commute distances in miles\n",
        "yearly_income = np.array([30000, 40000, 50000, 60000, 70000])  # Example yearly incomes in dollars\n",
        "\n",
        "# Calculate Pearson correlation coefficient\n",
        "correlation = np.corrcoef(commute_distance, yearly_income)[0, 1]\n",
        "\n",
        "# Output result\n",
        "print(f\"Pearson Correlation between Commute Distance and Yearly Income: {correlation}\")\n"
      ],
      "metadata": {
        "colab": {
          "base_uri": "https://localhost:8080/"
        },
        "id": "fh9j5l1TEGZZ",
        "outputId": "567c133b-ff63-44a9-ffe9-e99305d0f811"
      },
      "execution_count": 4,
      "outputs": [
        {
          "output_type": "stream",
          "name": "stdout",
          "text": [
            "Pearson Correlation between Commute Distance and Yearly Income: 1.0\n"
          ]
        }
      ]
    }
  ]
}